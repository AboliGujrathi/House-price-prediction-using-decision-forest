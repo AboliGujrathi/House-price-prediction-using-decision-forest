{
 "cells": [
  {
   "cell_type": "code",
   "execution_count": null,
   "id": "0f7b18d8-b31d-408f-a191-067853770b15",
   "metadata": {},
   "outputs": [],
   "source": [
    "import tensorflow as tf\n",
    "import tensorflow_decision_forests as tfdf\n",
    "import pandas as pd\n",
    "import seaborn as sns\n",
    "import matplotlib.pyplot as plt\n",
    "\n",
    "# Comment this if the data visualisations doesn't work on your side\n",
    "%matplotlib inline"
   ]
  },
  {
   "cell_type": "code",
   "execution_count": null,
   "id": "52b0f7da-b1c2-4b8a-b9ea-8443e71a3736",
   "metadata": {},
   "outputs": [],
   "source": [
    "# Comment this if the data visualisations doesn't work on your side\n",
    "%matplotlib inline\n",
    "print(\"TensorFlow v\" + tf.__version__)\n",
    "print(\"TensorFlow Decision Forests v\" + tfdf.__version__)"
   ]
  },
  {
   "cell_type": "code",
   "execution_count": null,
   "id": "9d738c14-4aac-4a5a-9506-ecca906fca62",
   "metadata": {},
   "outputs": [],
   "source": [
    "#Load the dataset\n",
    "train_file_path = \"../input/house-prices-advanced-regression-techniques/train.csv\"\n",
    "dataset_df = pd.read_csv(train_file_path)\n",
    "print(\"Full train dataset shape is {}\".format(dataset_df.shape))\n",
    "#Full train dataset shape is (1460, 81)\n",
    "#he data is composed of 81 columns and 1460 entries. We can see all 81 dimensions of our dataset by printing out the first 3 entries using the following code:"
   ]
  },
  {
   "cell_type": "code",
   "execution_count": null,
   "id": "ff138368-bc03-478e-8d0f-16fd94447977",
   "metadata": {},
   "outputs": [],
   "source": [
    "dataset_df.head(3)"
   ]
  },
  {
   "cell_type": "code",
   "execution_count": null,
   "id": "37f3dd63-616d-4a90-a75d-c92f43ba0e72",
   "metadata": {},
   "outputs": [],
   "source": [
    "dataset_df = dataset_df.drop('Id', axis=1)\n",
    "dataset_df.head(3)"
   ]
  },
  {
   "cell_type": "code",
   "execution_count": null,
   "id": "3e93ce69-a606-4d29-ba16-933509b5a31e",
   "metadata": {},
   "outputs": [],
   "source": [
    "dataset_df.info()"
   ]
  },
  {
   "cell_type": "code",
   "execution_count": null,
   "id": "c98a50d3-b8a3-4bc1-a4e1-d7d4a8356c7c",
   "metadata": {},
   "outputs": [],
   "source": [
    "#House Price Distribution\n",
    "#Now let us take a look at how the house prices are distributed.\n",
    "\n",
    "print(dataset_df['SalePrice'].describe())\n",
    "plt.figure(figsize=(9, 8))\n",
    "sns.distplot(dataset_df['SalePrice'], color='g', bins=100, hist_kws={'alpha': 0.4});"
   ]
  },
  {
   "cell_type": "code",
   "execution_count": null,
   "id": "1dd42687-60d1-4eb4-9f2f-f80f6e4b2e3c",
   "metadata": {},
   "outputs": [],
   "source": [
    "#`distplot` is a deprecated function and will be removed in seaborn v0.14.0.\n",
    "\n",
    "#Please adapt your code to use either `displot` (a figure-level function with\n",
    "#similar flexibility) or `histplot` (an axes-level function for histograms).\n",
    "\n",
    "#For a guide to updating your code to use the new functions, please see\n",
    "#https://gist.github.com/mwaskom/de44147ed2974457ad6372750bbe5751\n",
    "\n",
    " # This is separate from the ipykernel package so we can avoid doing imports until"
   ]
  },
  {
   "cell_type": "code",
   "execution_count": null,
   "id": "9d52500d-c40b-4528-b626-1a64c12c03a0",
   "metadata": {},
   "outputs": [],
   "source": [
    "#Numerical data distribution\n",
    "#We will now take a look at how the numerical features are distributed. In order to do this, let us first list all the types of data from our dataset and select only the numerical ones.\n",
    "\n",
    "list(set(dataset_df.dtypes.tolist()))"
   ]
  },
  {
   "cell_type": "code",
   "execution_count": null,
   "id": "69bc0154-020c-4b72-9075-8e5f9fc55a68",
   "metadata": {},
   "outputs": [],
   "source": [
    "df_num = dataset_df.select_dtypes(include = ['float64', 'int64'])\n",
    "df_num.head()"
   ]
  },
  {
   "cell_type": "code",
   "execution_count": null,
   "id": "914e02ea-4b91-4890-9745-8e2c3d0753af",
   "metadata": {},
   "outputs": [],
   "source": [
    "##Now let us plot the distribution for all the numerical features.\n",
    "\n",
    "df_num.hist(figsize=(16, 20), bins=50, xlabelsize=8, ylabelsize=8);"
   ]
  },
  {
   "cell_type": "code",
   "execution_count": null,
   "id": "174bcd9f-ba4d-4db4-afc4-a24cb8ca426f",
   "metadata": {},
   "outputs": [],
   "source": [
    "#Prepare the dataset\n",
    "#This dataset contains a mix of numeric, categorical and missing features. TF-DF supports all these feature types natively, and no preprocessing is required. This is one advantage of tree-based models, making them a great entry point to Tensorflow and ML.\n",
    "\n",
    "#Now let us split the dataset into training and testing datasets:\n",
    "\n",
    "import numpy as np\n",
    "\n",
    "def split_dataset(dataset, test_ratio=0.30):\n",
    "  test_indices = np.random.rand(len(dataset)) < test_ratio\n",
    "  return dataset[~test_indices], dataset[test_indices]\n",
    "\n",
    "train_ds_pd, valid_ds_pd = split_dataset(dataset_df)\n",
    "print(\"{} examples in training, {} examples in testing.\".format(\n",
    "    len(train_ds_pd), len(valid_ds_pd)))\n",
    "#1010 examples in training, 450 examples in testing."
   ]
  },
  {
   "cell_type": "code",
   "execution_count": null,
   "id": "2538a2cb-e5db-47a0-82cf-173d4b561d49",
   "metadata": {},
   "outputs": [],
   "source": [
    "#There's one more step required before we can train the model. We need to convert the datatset from Pandas format (pd.DataFrame) into TensorFlow Datasets format (tf.data.Dataset).\n",
    "\n",
    "#TensorFlow Datasets is a high performance data loading library which is helpful when training neural networks with accelerators like GPUs and TPUs.\n",
    "\n",
    "#By default the Random Forest Model is configured to train classification tasks. Since this is a regression problem, we will specify the type of the task (tfdf.keras.Task.REGRESSION) as a parameter here.\n",
    "\n",
    "label = 'SalePrice'\n",
    "train_ds = tfdf.keras.pd_dataframe_to_tf_dataset(train_ds_pd, label=label, task = tfdf.keras.Task.REGRESSION)\n",
    "valid_ds = tfdf.keras.pd_dataframe_to_tf_dataset(valid_ds_pd, label=label, task = tfdf.keras.Task.REGRESSION)"
   ]
  },
  {
   "cell_type": "code",
   "execution_count": null,
   "id": "e2e07fc3-fbb8-48e3-8232-6d52b600f9c7",
   "metadata": {},
   "outputs": [],
   "source": [
    "#Select a Model\n",
    "#There are several tree-based models for you to choose from.\n",
    "\n",
    "#RandomForestModel\n",
    "#GradientBoostedTreesModel\n",
    "#CartModel\n",
    "#DistributedGradientBoostedTreesModel\n",
    "#To start, we'll work with a Random Forest. This is the most well-known of the Decision Forest training algorithms.\n",
    "\n",
    "#A Random Forest is a collection of decision trees, each trained independently on a random subset of the training dataset (sampled with replacement). The algorithm is unique in that it is robust to overfitting, and easy to use.\n",
    "\n",
    "#We can list the all the available models in TensorFlow Decision Forests using the following code:"
   ]
  },
  {
   "cell_type": "code",
   "execution_count": null,
   "id": "d40b6260-7f0f-4551-b05b-02a53b98a693",
   "metadata": {},
   "outputs": [],
   "source": [
    "tfdf.keras.get_all_models()"
   ]
  },
  {
   "cell_type": "code",
   "execution_count": null,
   "id": "d20196c9-6d0e-4a77-8a1b-d63a6f785e55",
   "metadata": {},
   "outputs": [],
   "source": [
    "rf = tfdf.keras.RandomForestModel(task = tfdf.keras.Task.REGRESSION)\n",
    "rf.compile(metrics=[\"mse\"]) # Optional, you can use this to include a list of eval metrics"
   ]
  },
  {
   "cell_type": "code",
   "execution_count": null,
   "id": "4774ab1d-a154-4767-843c-fe4bb334a282",
   "metadata": {},
   "outputs": [],
   "source": [
    "#Train the model\n",
    "#We will train the model using a one-liner.\n",
    "\n",
    "#Note: you may see a warning about Autograph. You can safely ignore this, it will be fixed in the next release.\n",
    "\n",
    "rf.fit(x=train_ds)"
   ]
  },
  {
   "cell_type": "code",
   "execution_count": null,
   "id": "1d183218-1dc9-4437-8ad5-e5b49a128a36",
   "metadata": {},
   "outputs": [],
   "source": [
    "#Visualize the model\n",
    "#One benefit of tree-based models is that you can easily visualize them. The default number of trees used in the Random Forests is 300. We can select a tree to display below.\n",
    "\n",
    "tfdf.model_plotter.plot_model_in_colab(rf, tree_idx=0, max_depth=3)"
   ]
  },
  {
   "cell_type": "code",
   "execution_count": null,
   "id": "fd0657cf-ef16-4f9a-be67-03438bd1a210",
   "metadata": {},
   "outputs": [],
   "source": [
    "#Evaluate the model on the Out of bag (OOB) data and the validation dataset\n",
    "Before training the dataset we have manually seperated 20% of the dataset for validation named as valid_ds.\n",
    "\n",
    "We can also use Out of bag (OOB) score to validate our RandomForestModel. To train a Random Forest Model, a set of random samples from training set are choosen by the algorithm and the rest of the samples are used to finetune the model.The subset of data that is not chosen is known as Out of bag data (OOB). OOB score is computed on the OOB data.\n",
    "\n",
    "Read more about OOB data here.\n",
    "\n",
    "The training logs show the Root Mean Squared Error (RMSE) evaluated on the out-of-bag dataset according to the number of trees in the model. Let us plot this.\n",
    "\n",
    "Note: Smaller values are better for this hyperparameter."
   ]
  },
  {
   "cell_type": "code",
   "execution_count": null,
   "id": "fe369713-9972-4240-9b29-45672cc844f5",
   "metadata": {},
   "outputs": [],
   "source": [
    "import matplotlib.pyplot as plt\n",
    "logs = rf.make_inspector().training_logs()\n",
    "plt.plot([log.num_trees for log in logs], [log.evaluation.rmse for log in logs])\n",
    "plt.xlabel(\"Number of trees\")\n",
    "plt.ylabel(\"RMSE (out-of-bag)\")\n",
    "plt.show()"
   ]
  },
  {
   "cell_type": "code",
   "execution_count": null,
   "id": "3f1590f0-8b1d-4a2c-b270-259974441f88",
   "metadata": {},
   "outputs": [],
   "source": [
    "We can also see some general stats on the OOB dataset:\n",
    "\n",
    "inspector = rf.make_inspector()\n",
    "inspector.evaluation()"
   ]
  },
  {
   "cell_type": "code",
   "execution_count": null,
   "id": "d80d737e-3150-4fd5-bbe8-996cbabd312c",
   "metadata": {},
   "outputs": [],
   "source": [
    "Evaluation(num_examples=1010, accuracy=None, loss=None, rmse=29660.363022492173, ndcg=None, aucs=None, auuc=None, qini=None)\n",
    "Now, let us run an evaluation using the validation dataset.\n",
    "\n",
    "evaluation = rf.evaluate(x=valid_ds,return_dict=True)\n",
    "\n",
    "for name, value in evaluation.items():\n",
    "  print(f\"{name}: {value:.4f}\")\n",
    "    "
   ]
  },
  {
   "cell_type": "code",
   "execution_count": null,
   "id": "a4e49faf-0e94-45da-b049-4b22cdf68929",
   "metadata": {},
   "outputs": [],
   "source": [
    "#Variable importances\n",
    "#Variable importances generally indicate how much a feature contributes to the model predictions or quality. There are several ways to identify important features using TensorFlow Decision Forests. Let us list the available Variable Importances for Decision Trees:\n",
    "\n",
    "print(f\"Available variable importances:\")\n",
    "for importance in inspector.variable_importances().keys():\n",
    "  print(\"\\t\", importance)"
   ]
  },
  {
   "cell_type": "code",
   "execution_count": null,
   "id": "e3386785-1594-42a5-ad0a-a97221e3c204",
   "metadata": {},
   "outputs": [],
   "source": [
    "As an example, let us display the important features for the Variable Importance NUM_AS_ROOT.\n",
    "\n",
    "The larger the importance score for NUM_AS_ROOT, the more impact it has on the outcome of the model.\n",
    "\n",
    "By default, the list is sorted from the most important to the least. From the output you can infer that the feature at the top of the list is used as the root node in most number of trees in the random forest than any other feature."
   ]
  },
  {
   "cell_type": "code",
   "execution_count": null,
   "id": "520014eb-342d-4fc6-9cd5-309a0018c701",
   "metadata": {},
   "outputs": [],
   "source": [
    "inspector.variable_importances()[\"NUM_AS_ROOT\"]"
   ]
  },
  {
   "cell_type": "code",
   "execution_count": null,
   "id": "ee9f24bb-9043-4c29-801d-974d1faff223",
   "metadata": {},
   "outputs": [],
   "source": [
    "plt.figure(figsize=(12, 4))\n",
    "\n",
    "# Mean decrease in AUC of the class 1 vs the others.\n",
    "variable_importance_metric = \"NUM_AS_ROOT\"\n",
    "variable_importances = inspector.variable_importances()[variable_importance_metric]\n",
    "\n",
    "# Extract the feature name and importance values.\n",
    "#\n",
    "# `variable_importances` is a list of <feature, importance> tuples.\n",
    "feature_names = [vi[0].name for vi in variable_importances]\n",
    "feature_importances = [vi[1] for vi in variable_importances]\n",
    "# The feature are ordered in decreasing importance value.\n",
    "feature_ranks = range(len(feature_names))\n",
    "\n",
    "bar = plt.barh(feature_ranks, feature_importances, label=[str(x) for x in feature_ranks])\n",
    "plt.yticks(feature_ranks, feature_names)\n",
    "plt.gca().invert_yaxis()\n",
    "\n",
    "# TODO: Replace with \"plt.bar_label()\" when available.\n",
    "# Label each bar with values\n",
    "for importance, patch in zip(feature_importances, bar.patches):\n",
    "  plt.text(patch.get_x() + patch.get_width(), patch.get_y(), f\"{importance:.4f}\", va=\"top\")\n",
    "\n",
    "plt.xlabel(variable_importance_metric)\n",
    "plt.title(\"NUM AS ROOT of the class 1 vs the others\")\n",
    "plt.tight_layout()\n",
    "plt.show()"
   ]
  },
  {
   "cell_type": "code",
   "execution_count": null,
   "id": "7296694d-ad29-4737-9df3-c9e1089dda60",
   "metadata": {},
   "outputs": [],
   "source": [
    "#Submission\n",
    "#Finally predict on the competition test data using the model.\n",
    "\n",
    "test_file_path = \"../input/house-prices-advanced-regression-techniques/test.csv\"\n",
    "test_data = pd.read_csv(test_file_path)\n",
    "ids = test_data.pop('Id')\n",
    "\n",
    "test_ds = tfdf.keras.pd_dataframe_to_tf_dataset(\n",
    "    test_data,\n",
    "    task = tfdf.keras.Task.REGRESSION)\n",
    "\n",
    "preds = rf.predict(test_ds)\n",
    "output = pd.DataFrame({'Id': ids,\n",
    "                       'SalePrice': preds.squeeze()})\n",
    "\n",
    "output.head()"
   ]
  },
  {
   "cell_type": "code",
   "execution_count": null,
   "id": "ead1b62d-1180-4385-a1ba-668fa9f0713b",
   "metadata": {},
   "outputs": [],
   "source": [
    "\n",
    "sample_submission_df = pd.read_csv('../input/house-prices-advanced-regression-techniques/sample_submission.csv')\n",
    "sample_submission_df['SalePrice'] = rf.predict(test_ds)\n",
    "sample_submission_df.to_csv('/kaggle/working/submission.csv', index=False)\n",
    "sample_submission_df.head()\n"
   ]
  }
 ],
 "metadata": {
  "kernelspec": {
   "display_name": "Python 3 (ipykernel)",
   "language": "python",
   "name": "python3"
  },
  "language_info": {
   "codemirror_mode": {
    "name": "ipython",
    "version": 3
   },
   "file_extension": ".py",
   "mimetype": "text/x-python",
   "name": "python",
   "nbconvert_exporter": "python",
   "pygments_lexer": "ipython3",
   "version": "3.12.1"
  }
 },
 "nbformat": 4,
 "nbformat_minor": 5
}
